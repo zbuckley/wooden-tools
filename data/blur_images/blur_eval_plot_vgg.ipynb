{
 "cells": [
  {
   "cell_type": "markdown",
   "id": "illegal-gravity",
   "metadata": {},
   "source": [
    "Let's load the csv file we generated using `blur_evaluation_vgg_cnn.py`"
   ]
  },
  {
   "cell_type": "code",
   "execution_count": 1,
   "id": "flush-railway",
   "metadata": {},
   "outputs": [],
   "source": [
    "import pandas as pd\n",
    "import matplotlib.pyplot as plt\n",
    "import numpy as np\n",
    "from sklearn.metrics import accuracy_score"
   ]
  },
  {
   "cell_type": "code",
   "execution_count": 2,
   "id": "nominated-equity",
   "metadata": {},
   "outputs": [],
   "source": [
    "df = pd.read_csv('test_vgg_cnn.csv', index_col=0)"
   ]
  },
  {
   "cell_type": "code",
   "execution_count": 3,
   "id": "indian-royalty",
   "metadata": {},
   "outputs": [
    {
     "data": {
      "text/html": [
       "<div>\n",
       "<style scoped>\n",
       "    .dataframe tbody tr th:only-of-type {\n",
       "        vertical-align: middle;\n",
       "    }\n",
       "\n",
       "    .dataframe tbody tr th {\n",
       "        vertical-align: top;\n",
       "    }\n",
       "\n",
       "    .dataframe thead th {\n",
       "        text-align: right;\n",
       "    }\n",
       "</style>\n",
       "<table border=\"1\" class=\"dataframe\">\n",
       "  <thead>\n",
       "    <tr style=\"text-align: right;\">\n",
       "      <th></th>\n",
       "      <th>labels</th>\n",
       "      <th>image_paths</th>\n",
       "      <th>blur_sizes</th>\n",
       "      <th>predictions</th>\n",
       "    </tr>\n",
       "  </thead>\n",
       "  <tbody>\n",
       "    <tr>\n",
       "      <th>0</th>\n",
       "      <td>0</td>\n",
       "      <td>C:/Users/buckl/Documents/GitHub/wooden-tools/d...</td>\n",
       "      <td>0</td>\n",
       "      <td>1.343193e-07</td>\n",
       "    </tr>\n",
       "    <tr>\n",
       "      <th>1</th>\n",
       "      <td>0</td>\n",
       "      <td>C:/Users/buckl/Documents/GitHub/wooden-tools/d...</td>\n",
       "      <td>1</td>\n",
       "      <td>1.343193e-07</td>\n",
       "    </tr>\n",
       "    <tr>\n",
       "      <th>2</th>\n",
       "      <td>0</td>\n",
       "      <td>C:/Users/buckl/Documents/GitHub/wooden-tools/d...</td>\n",
       "      <td>2</td>\n",
       "      <td>6.781585e-07</td>\n",
       "    </tr>\n",
       "    <tr>\n",
       "      <th>3</th>\n",
       "      <td>0</td>\n",
       "      <td>C:/Users/buckl/Documents/GitHub/wooden-tools/d...</td>\n",
       "      <td>3</td>\n",
       "      <td>9.239679e-07</td>\n",
       "    </tr>\n",
       "    <tr>\n",
       "      <th>4</th>\n",
       "      <td>0</td>\n",
       "      <td>C:/Users/buckl/Documents/GitHub/wooden-tools/d...</td>\n",
       "      <td>4</td>\n",
       "      <td>1.492671e-06</td>\n",
       "    </tr>\n",
       "  </tbody>\n",
       "</table>\n",
       "</div>"
      ],
      "text/plain": [
       "   labels                                        image_paths  blur_sizes  \\\n",
       "0       0  C:/Users/buckl/Documents/GitHub/wooden-tools/d...           0   \n",
       "1       0  C:/Users/buckl/Documents/GitHub/wooden-tools/d...           1   \n",
       "2       0  C:/Users/buckl/Documents/GitHub/wooden-tools/d...           2   \n",
       "3       0  C:/Users/buckl/Documents/GitHub/wooden-tools/d...           3   \n",
       "4       0  C:/Users/buckl/Documents/GitHub/wooden-tools/d...           4   \n",
       "\n",
       "    predictions  \n",
       "0  1.343193e-07  \n",
       "1  1.343193e-07  \n",
       "2  6.781585e-07  \n",
       "3  9.239679e-07  \n",
       "4  1.492671e-06  "
      ]
     },
     "execution_count": 3,
     "metadata": {},
     "output_type": "execute_result"
    }
   ],
   "source": [
    "df.head()"
   ]
  },
  {
   "cell_type": "code",
   "execution_count": 4,
   "id": "integrated-expert",
   "metadata": {},
   "outputs": [
    {
     "name": "stdout",
     "output_type": "stream",
     "text": [
      "<class 'pandas.core.frame.DataFrame'>\n",
      "Int64Index: 101819 entries, 0 to 101818\n",
      "Data columns (total 4 columns):\n",
      " #   Column       Non-Null Count   Dtype  \n",
      "---  ------       --------------   -----  \n",
      " 0   labels       101819 non-null  int64  \n",
      " 1   image_paths  101819 non-null  object \n",
      " 2   blur_sizes   101819 non-null  int64  \n",
      " 3   predictions  101819 non-null  float64\n",
      "dtypes: float64(1), int64(2), object(1)\n",
      "memory usage: 3.9+ MB\n"
     ]
    }
   ],
   "source": [
    "df.info()"
   ]
  },
  {
   "cell_type": "code",
   "execution_count": 5,
   "id": "otherwise-establishment",
   "metadata": {},
   "outputs": [],
   "source": [
    "df.labels = df.labels.astype('category')\n",
    "df.image_paths = df.image_paths.astype('string')\n",
    "df.blur_sizes = df.blur_sizes.astype('int32')\n",
    "df.predictions = df.predictions.astype('float32')"
   ]
  },
  {
   "cell_type": "code",
   "execution_count": 6,
   "id": "following-norman",
   "metadata": {},
   "outputs": [
    {
     "data": {
      "text/html": [
       "<div>\n",
       "<style scoped>\n",
       "    .dataframe tbody tr th:only-of-type {\n",
       "        vertical-align: middle;\n",
       "    }\n",
       "\n",
       "    .dataframe tbody tr th {\n",
       "        vertical-align: top;\n",
       "    }\n",
       "\n",
       "    .dataframe thead th {\n",
       "        text-align: right;\n",
       "    }\n",
       "</style>\n",
       "<table border=\"1\" class=\"dataframe\">\n",
       "  <thead>\n",
       "    <tr style=\"text-align: right;\">\n",
       "      <th></th>\n",
       "      <th>blur_sizes</th>\n",
       "      <th>predictions</th>\n",
       "    </tr>\n",
       "  </thead>\n",
       "  <tbody>\n",
       "    <tr>\n",
       "      <th>count</th>\n",
       "      <td>101819.000000</td>\n",
       "      <td>1.018190e+05</td>\n",
       "    </tr>\n",
       "    <tr>\n",
       "      <th>mean</th>\n",
       "      <td>124.499239</td>\n",
       "      <td>5.094573e-02</td>\n",
       "    </tr>\n",
       "    <tr>\n",
       "      <th>std</th>\n",
       "      <td>72.169156</td>\n",
       "      <td>2.035753e-01</td>\n",
       "    </tr>\n",
       "    <tr>\n",
       "      <th>min</th>\n",
       "      <td>0.000000</td>\n",
       "      <td>1.220752e-29</td>\n",
       "    </tr>\n",
       "    <tr>\n",
       "      <th>25%</th>\n",
       "      <td>62.000000</td>\n",
       "      <td>3.040216e-10</td>\n",
       "    </tr>\n",
       "    <tr>\n",
       "      <th>50%</th>\n",
       "      <td>124.000000</td>\n",
       "      <td>2.075638e-07</td>\n",
       "    </tr>\n",
       "    <tr>\n",
       "      <th>75%</th>\n",
       "      <td>187.000000</td>\n",
       "      <td>3.129759e-05</td>\n",
       "    </tr>\n",
       "    <tr>\n",
       "      <th>max</th>\n",
       "      <td>249.000000</td>\n",
       "      <td>1.000000e+00</td>\n",
       "    </tr>\n",
       "  </tbody>\n",
       "</table>\n",
       "</div>"
      ],
      "text/plain": [
       "          blur_sizes   predictions\n",
       "count  101819.000000  1.018190e+05\n",
       "mean      124.499239  5.094573e-02\n",
       "std        72.169156  2.035753e-01\n",
       "min         0.000000  1.220752e-29\n",
       "25%        62.000000  3.040216e-10\n",
       "50%       124.000000  2.075638e-07\n",
       "75%       187.000000  3.129759e-05\n",
       "max       249.000000  1.000000e+00"
      ]
     },
     "execution_count": 6,
     "metadata": {},
     "output_type": "execute_result"
    }
   ],
   "source": [
    "df.describe()"
   ]
  },
  {
   "cell_type": "code",
   "execution_count": 7,
   "id": "third-alarm",
   "metadata": {},
   "outputs": [],
   "source": [
    "results = []\n",
    "for b in range(max(df['blur_sizes'])+1):\n",
    "    blur_set = df[df.blur_sizes == b]\n",
    "    preds = np.round(blur_set.predictions.to_numpy())\n",
    "    labels = blur_set.labels.to_numpy().astype('int32')\n",
    "    results.append(accuracy_score(labels, preds))"
   ]
  },
  {
   "cell_type": "code",
   "execution_count": 10,
   "id": "lined-halloween",
   "metadata": {},
   "outputs": [
    {
     "data": {
      "image/png": "[encoded data removed]",
      "text/plain": [
       "<Figure size 432x288 with 1 Axes>"
      ]
     },
     "metadata": {
      "needs_background": "light"
     },
     "output_type": "display_data"
    }
   ],
   "source": [
    "plt.plot(list(range(max(df['blur_sizes']) +1)), results)\n",
    "plt.title('Accuracy vs Blur Window Size (VGG)')\n",
    "plt.xlabel('Blur Window Size(Pixels)')\n",
    "plt.ylabel('Classification Accuracy')\n",
    "plt.savefig('blur_accuracy_vgg_cnn')"
   ]
  },
  {
   "cell_type": "code",
   "execution_count": null,
   "id": "c5db0b0a",
   "metadata": {},
   "outputs": [],
   "source": []
  }
 ],
 "metadata": {
  "kernelspec": {
   "display_name": "Python 3",
   "language": "python",
   "name": "python3"
  },
  "language_info": {
   "codemirror_mode": {
    "name": "ipython",
    "version": 3
   },
   "file_extension": ".py",
   "mimetype": "text/x-python",
   "name": "python",
   "nbconvert_exporter": "python",
   "pygments_lexer": "ipython3",
   "version": "3.8.3"
  }
 },
 "nbformat": 4,
 "nbformat_minor": 5
}
